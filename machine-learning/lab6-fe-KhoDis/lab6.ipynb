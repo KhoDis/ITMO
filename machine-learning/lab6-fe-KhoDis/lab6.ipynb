{
 "nbformat": 4,
 "nbformat_minor": 0,
 "metadata": {
  "colab": {
   "provenance": []
  },
  "kernelspec": {
   "name": "python3",
   "display_name": "Python 3"
  },
  "language_info": {
   "name": "python"
  }
 },
 "cells": [
  {
   "cell_type": "markdown",
   "source": [
    "# Лабораторная №6. Выбор признаков"
   ],
   "metadata": {
    "id": "x3iD81U-7bp0"
   }
  },
  {
   "cell_type": "code",
   "source": [
    "import pandas as pd\n",
    "from tqdm import tqdm\n",
    "import numpy as np"
   ],
   "metadata": {
    "id": "CFrzVKoTuW_H"
   },
   "execution_count": 6,
   "outputs": []
  },
  {
   "cell_type": "code",
   "source": [
    "from sklearn.feature_extraction.text import TfidfVectorizer\n",
    "from sklearn.preprocessing import LabelEncoder\n",
    "\n",
    "df = pd.read_table('SMS.tsv')\n",
    "df = df.sample(n=1000, random_state=0)\n",
    "\n",
    "vectorizer_full = TfidfVectorizer()\n",
    "X_full = vectorizer_full.fit_transform(df['text'])\n",
    "\n",
    "vectorizer_500 = TfidfVectorizer(max_features=500)\n",
    "X_500 = vectorizer_500.fit_transform(df['text'])\n",
    "\n",
    "label_encoder = LabelEncoder()\n",
    "y = label_encoder.fit_transform(df['class'])"
   ],
   "metadata": {
    "id": "topEhiLW7ZPs"
   },
   "execution_count": 45,
   "outputs": []
  },
  {
   "cell_type": "markdown",
   "source": [
    "## Реализуйте 3 метода выбора признаков"
   ],
   "metadata": {
    "id": "xpAHYJJP7k-9"
   }
  },
  {
   "cell_type": "markdown",
   "source": [
    "### LASSO"
   ],
   "metadata": {
    "id": "g0oiYEN37mZQ"
   }
  },
  {
   "cell_type": "code",
   "source": [
    "def coordinate_descent_lasso(X, y, alpha, max_iter=1000, tol=0.05):\n",
    "    n_samples, n_features = X.shape\n",
    "\n",
    "    w = np.zeros(n_features)\n",
    "    w_prev = np.zeros(n_features)\n",
    "    residual = y - np.dot(X, w)\n",
    "\n",
    "    L = np.linalg.norm(X, axis=0) ** 2\n",
    "\n",
    "    for _ in tqdm(range(max_iter)):\n",
    "        for j in range(n_features):\n",
    "            X_j = X[:, j]\n",
    "            old_w_j = w[j]\n",
    "\n",
    "            X_j_dot_residual = np.dot(X_j, residual)\n",
    "            w[j] = soft_threshold(X_j_dot_residual, alpha) / L[j]\n",
    "\n",
    "            residual += X_j * (old_w_j - w[j])\n",
    "\n",
    "        if np.linalg.norm(w - w_prev) < tol:\n",
    "            break\n",
    "\n",
    "        w_prev = np.copy(w)\n",
    "\n",
    "    return w\n",
    "\n",
    "def soft_threshold(x, alpha):\n",
    "    if x > alpha:\n",
    "        return x - alpha\n",
    "    elif x < -alpha:\n",
    "        return x + alpha\n",
    "    else:\n",
    "        return 0\n",
    "\n",
    "alpha = 0.5\n",
    "coefs = coordinate_descent_lasso(X_full.toarray(), y, alpha)\n",
    "\n",
    "feature_coefs = zip(vectorizer_full.get_feature_names_out(), coefs)\n",
    "\n",
    "sorted_features_embedded = sorted(feature_coefs, key=lambda x: abs(x[1]), reverse=True)\n",
    "\n",
    "print()\n",
    "for feature, coef in sorted_features_embedded[:30]:\n",
    "    print(f\"Feature: {feature:20} Coefficient: {coef:.5f}\")"
   ],
   "metadata": {
    "colab": {
     "base_uri": "https://localhost:8080/"
    },
    "id": "4rY2VnQW_Tjx",
    "outputId": "a340bf73-a999-4be2-b61e-0e5387a50983"
   },
   "execution_count": 19,
   "outputs": [
    {
     "output_type": "stream",
     "name": "stderr",
     "text": [
      " 47%|████▋     | 473/1000 [00:24<00:26, 19.68it/s]"
     ]
    },
    {
     "output_type": "stream",
     "name": "stdout",
     "text": [
      "\n",
      "Feature: txt                  Coefficient: 1.33139\n",
      "Feature: 50                   Coefficient: 1.09355\n",
      "Feature: win                  Coefficient: 0.85165\n",
      "Feature: customer             Coefficient: 0.84825\n",
      "Feature: 150p                 Coefficient: 0.84153\n",
      "Feature: claim                Coefficient: 0.80802\n",
      "Feature: rate                 Coefficient: 0.79353\n",
      "Feature: www                  Coefficient: 0.78064\n",
      "Feature: 18                   Coefficient: 0.77729\n",
      "Feature: mobile               Coefficient: 0.69722\n",
      "Feature: service              Coefficient: 0.64043\n",
      "Feature: stop                 Coefficient: 0.58831\n",
      "Feature: awarded              Coefficient: 0.53003\n",
      "Feature: 500                  Coefficient: 0.51348\n",
      "Feature: uk                   Coefficient: 0.51209\n",
      "Feature: com                  Coefficient: 0.50524\n",
      "Feature: won                  Coefficient: 0.49435\n",
      "Feature: free                 Coefficient: 0.49251\n",
      "Feature: cs                   Coefficient: 0.48079\n",
      "Feature: text                 Coefficient: 0.48013\n",
      "Feature: call                 Coefficient: 0.47217\n",
      "Feature: latest               Coefficient: 0.46140\n",
      "Feature: contact              Coefficient: 0.44206\n",
      "Feature: nokia                Coefficient: 0.44076\n",
      "Feature: line                 Coefficient: 0.43982\n",
      "Feature: new                  Coefficient: 0.43852\n",
      "Feature: reply                Coefficient: 0.43462\n",
      "Feature: chat                 Coefficient: 0.43181\n",
      "Feature: 100                  Coefficient: 0.42768\n",
      "Feature: video                Coefficient: 0.40945\n"
     ]
    },
    {
     "output_type": "stream",
     "name": "stderr",
     "text": [
      "\n"
     ]
    }
   ]
  },
  {
   "cell_type": "markdown",
   "source": [
    "### Forward Selection"
   ],
   "metadata": {
    "id": "-ZLrnoUU7pjY"
   }
  },
  {
   "cell_type": "code",
   "source": [
    "import statsmodels.api as sm\n",
    "\n",
    "def forward_selection(data, target, significance_level=0.05, num_best_features=30):\n",
    "    initial_features = data.columns.tolist()\n",
    "    best_features = []\n",
    "    feature_scores = {}\n",
    "    while len(best_features) < num_best_features and len(initial_features) > 0:\n",
    "        remaining_features = list(set(initial_features) - set(best_features))\n",
    "        new_pval = pd.Series(index=remaining_features, dtype=np.float64)\n",
    "        for new_column in tqdm(remaining_features):\n",
    "            model = sm.OLS(target, sm.add_constant(data[best_features + [new_column]])).fit()\n",
    "            new_pval[new_column] = model.pvalues[new_column]\n",
    "        min_p_value = new_pval.min()\n",
    "        if min_p_value < significance_level:\n",
    "            best_feature = new_pval.idxmin()\n",
    "            best_features.append(best_feature)\n",
    "            feature_scores[best_feature] = -np.log10(min_p_value)\n",
    "        else:\n",
    "            break\n",
    "    return feature_scores"
   ],
   "metadata": {
    "id": "QBpcAmim-Ztc"
   },
   "execution_count": 121,
   "outputs": []
  },
  {
   "cell_type": "code",
   "source": [
    "df_vectorized = pd.DataFrame(X_500.todense(), columns=vectorizer_500.get_feature_names_out())\n",
    "\n",
    "feature_scores = forward_selection(df_vectorized, y)"
   ],
   "metadata": {
    "colab": {
     "base_uri": "https://localhost:8080/"
    },
    "id": "dlX-JJFB-bi2",
    "outputId": "4e8cfc86-ad91-4679-be78-4f1521bfe488"
   },
   "execution_count": 123,
   "outputs": [
    {
     "output_type": "stream",
     "name": "stderr",
     "text": [
      "100%|██████████| 500/500 [00:01<00:00, 266.78it/s]\n",
      "100%|██████████| 499/499 [00:02<00:00, 203.07it/s]\n",
      "100%|██████████| 498/498 [00:02<00:00, 229.92it/s]\n",
      "100%|██████████| 497/497 [00:02<00:00, 243.99it/s]\n",
      "100%|██████████| 496/496 [00:02<00:00, 223.09it/s]\n",
      "100%|██████████| 495/495 [00:02<00:00, 204.65it/s]\n",
      "100%|██████████| 494/494 [00:02<00:00, 178.98it/s]\n",
      "100%|██████████| 493/493 [00:03<00:00, 133.39it/s]\n",
      "100%|██████████| 492/492 [00:04<00:00, 103.08it/s]\n",
      "100%|██████████| 491/491 [00:04<00:00, 100.59it/s]\n",
      "100%|██████████| 490/490 [00:07<00:00, 69.42it/s] \n",
      "100%|██████████| 489/489 [00:04<00:00, 106.30it/s]\n",
      "100%|██████████| 488/488 [00:06<00:00, 73.90it/s]\n",
      "100%|██████████| 487/487 [00:05<00:00, 81.37it/s]\n",
      "100%|██████████| 486/486 [00:05<00:00, 90.79it/s]\n",
      "100%|██████████| 485/485 [00:08<00:00, 59.24it/s]\n",
      "100%|██████████| 484/484 [00:05<00:00, 83.11it/s]\n",
      "100%|██████████| 483/483 [00:08<00:00, 57.30it/s]\n",
      "100%|██████████| 482/482 [00:06<00:00, 80.09it/s]\n",
      "100%|██████████| 481/481 [00:09<00:00, 49.01it/s]\n",
      "100%|██████████| 480/480 [00:06<00:00, 70.53it/s]\n",
      "100%|██████████| 479/479 [00:12<00:00, 38.11it/s]\n",
      "100%|██████████| 478/478 [00:09<00:00, 49.66it/s]\n",
      "100%|██████████| 477/477 [00:07<00:00, 65.49it/s]\n",
      "100%|██████████| 476/476 [00:09<00:00, 47.71it/s]\n",
      "100%|██████████| 475/475 [00:10<00:00, 46.29it/s]\n",
      "100%|██████████| 474/474 [00:07<00:00, 60.85it/s]\n",
      "100%|██████████| 473/473 [00:10<00:00, 45.20it/s]\n",
      "100%|██████████| 472/472 [00:10<00:00, 43.11it/s]\n",
      "100%|██████████| 471/471 [00:08<00:00, 56.98it/s]\n"
     ]
    }
   ]
  },
  {
   "cell_type": "code",
   "source": [
    "sorted_scores = sorted(feature_scores.items(), key=lambda x: x[1], reverse=True)\n",
    "for feature, score in sorted_scores:\n",
    "    print(f'Feature: {feature:15} Score: {score:.3f}')"
   ],
   "metadata": {
    "colab": {
     "base_uri": "https://localhost:8080/"
    },
    "id": "7EVt8pBF-1mY",
    "outputId": "565c85ef-310e-4a17-b0e9-d1f024e9eba0"
   },
   "execution_count": 124,
   "outputs": [
    {
     "output_type": "stream",
     "name": "stdout",
     "text": [
      "Feature: txt             Score: 49.387\n",
      "Feature: call            Score: 47.062\n",
      "Feature: mobile          Score: 24.918\n",
      "Feature: 18              Score: 19.468\n",
      "Feature: won             Score: 17.213\n",
      "Feature: text            Score: 16.623\n",
      "Feature: customer        Score: 14.200\n",
      "Feature: rate            Score: 13.651\n",
      "Feature: reply           Score: 13.019\n",
      "Feature: free            Score: 12.697\n",
      "Feature: 150p            Score: 12.430\n",
      "Feature: 50              Score: 11.894\n",
      "Feature: landline        Score: 11.892\n",
      "Feature: www             Score: 11.714\n",
      "Feature: 800             Score: 11.662\n",
      "Feature: line            Score: 11.509\n",
      "Feature: win             Score: 11.204\n",
      "Feature: latest          Score: 10.540\n",
      "Feature: 100             Score: 10.433\n",
      "Feature: ringtone        Score: 9.262\n",
      "Feature: live            Score: 8.356\n",
      "Feature: co              Score: 7.957\n",
      "Feature: video           Score: 7.443\n",
      "Feature: message         Score: 7.306\n",
      "Feature: who             Score: 7.251\n",
      "Feature: chat            Score: 7.085\n",
      "Feature: claim           Score: 5.806\n",
      "Feature: cost            Score: 5.374\n",
      "Feature: new             Score: 5.246\n",
      "Feature: services        Score: 5.031\n"
     ]
    }
   ]
  },
  {
   "cell_type": "markdown",
   "source": [
    "### Mutual Information"
   ],
   "metadata": {
    "id": "7sN5aa3Q7sVe"
   }
  },
  {
   "cell_type": "code",
   "source": [
    "def mutual_information(feature, target):\n",
    "    feature_values = np.unique(feature)\n",
    "    target_values = np.unique(target)\n",
    "    mi = 0.0\n",
    "    for f_val in feature_values:\n",
    "        for t_val in target_values:\n",
    "            p_ft = np.logical_and(feature == f_val, target == t_val).mean()\n",
    "            p_f = (feature == f_val).mean()\n",
    "            p_t = (target == t_val).mean()\n",
    "            if p_ft > 0.0 and p_f > 0.0 and p_t > 0.0:\n",
    "                mi += p_ft * np.log2(p_ft / (p_f * p_t))\n",
    "    return mi\n",
    "\n",
    "mi_values = []\n",
    "\n",
    "feature_names = vectorizer_full.get_feature_names_out()\n",
    "for feature_idx in tqdm(range(X_full.shape[1])):\n",
    "    feature = X_full[:, feature_idx].toarray().flatten()\n",
    "    mi = mutual_information(feature, y)\n",
    "    mi_values.append(mi)"
   ],
   "metadata": {
    "colab": {
     "base_uri": "https://localhost:8080/"
    },
    "id": "eeS7qvN2nV6i",
    "outputId": "1adcb90b-95da-4d48-bd7b-93a9e554913d"
   },
   "execution_count": 55,
   "outputs": [
    {
     "output_type": "stream",
     "name": "stderr",
     "text": [
      "100%|██████████| 3287/3287 [00:03<00:00, 995.98it/s]\n"
     ]
    }
   ]
  },
  {
   "cell_type": "code",
   "source": [
    "features_df = pd.DataFrame({'Feature': feature_names, 'Mutual Information': mi_values})\n",
    "\n",
    "features_df = features_df.sort_values(by='Mutual Information', ascending=False)\n",
    "\n",
    "print(features_df.head(30))"
   ],
   "metadata": {
    "colab": {
     "base_uri": "https://localhost:8080/"
    },
    "id": "8ZuTHqTDnYO9",
    "outputId": "da6520b6-1cc3-4e41-dcaa-13a2e1bd8026"
   },
   "execution_count": 56,
   "outputs": [
    {
     "output_type": "stream",
     "name": "stdout",
     "text": [
      "     Feature  Mutual Information\n",
      "2909      to            0.293247\n",
      "653     call            0.226399\n",
      "3270     you            0.176752\n",
      "2043     now            0.127425\n",
      "2853     the            0.123571\n",
      "1211     for            0.118526\n",
      "3273    your            0.115142\n",
      "2103      or            0.112580\n",
      "2985     txt            0.106989\n",
      "1228    free            0.102279\n",
      "1559      is            0.088887\n",
      "1243    from            0.084309\n",
      "1386    have            0.081443\n",
      "2838    text            0.081094\n",
      "2087      on            0.081084\n",
      "376      and            0.078179\n",
      "1514      in            0.072279\n",
      "1278     get            0.070882\n",
      "1916  mobile            0.070121\n",
      "3193    with            0.069046\n",
      "3026      ur            0.067228\n",
      "2067      of            0.065098\n",
      "2871    this            0.063445\n",
      "2717    stop            0.058513\n",
      "2024      no            0.056005\n",
      "193       50            0.054950\n",
      "2092    only            0.053682\n",
      "2013     new            0.053577\n",
      "418      are            0.052055\n",
      "1848      me            0.050244\n"
     ]
    }
   ]
  },
  {
   "cell_type": "markdown",
   "source": [
    "## Библиотечные методы (chi2, f_classif, RFE + RandomForest)"
   ],
   "metadata": {
    "id": "7bkqIZPT7PGO"
   }
  },
  {
   "cell_type": "code",
   "source": [
    "from sklearn.feature_selection import chi2, f_classif, SelectKBest, RFE\n",
    "from sklearn.ensemble import RandomForestClassifier\n",
    "\n",
    "chi2_scores, _ = chi2(X_500, y)\n",
    "f_scores, _ = f_classif(X_500, y)\n",
    "\n",
    "k = 30\n",
    "\n",
    "chi2_selector = SelectKBest(chi2, k=k)\n",
    "f_selector = SelectKBest(f_classif, k=k)\n",
    "\n",
    "X_chi2 = chi2_selector.fit_transform(X_500, y)\n",
    "X_f = f_selector.fit_transform(X_500, y)\n",
    "\n",
    "rf_selector = RFE(RandomForestClassifier(), n_features_to_select=k, verbose=1)\n",
    "X_rf = rf_selector.fit_transform(X_500, y)"
   ],
   "metadata": {
    "colab": {
     "base_uri": "https://localhost:8080/"
    },
    "id": "PwU6ST7xv7kk",
    "outputId": "c78cf269-0bb1-405a-ca01-cb21669c163f"
   },
   "execution_count": 80,
   "outputs": [
    {
     "output_type": "stream",
     "name": "stdout",
     "text": [
      "Fitting estimator with 500 features.\n",
      "Fitting estimator with 499 features.\n",
      "Fitting estimator with 498 features.\n",
      "Fitting estimator with 497 features.\n",
      "Fitting estimator with 496 features.\n",
      "Fitting estimator with 495 features.\n",
      "Fitting estimator with 494 features.\n",
      "Fitting estimator with 493 features.\n",
      "Fitting estimator with 492 features.\n",
      "Fitting estimator with 491 features.\n",
      "Fitting estimator with 490 features.\n",
      "Fitting estimator with 489 features.\n",
      "Fitting estimator with 488 features.\n",
      "Fitting estimator with 487 features.\n",
      "Fitting estimator with 486 features.\n",
      "Fitting estimator with 485 features.\n",
      "Fitting estimator with 484 features.\n",
      "Fitting estimator with 483 features.\n",
      "Fitting estimator with 482 features.\n",
      "Fitting estimator with 481 features.\n",
      "Fitting estimator with 480 features.\n",
      "Fitting estimator with 479 features.\n",
      "Fitting estimator with 478 features.\n",
      "Fitting estimator with 477 features.\n",
      "Fitting estimator with 476 features.\n",
      "Fitting estimator with 475 features.\n",
      "Fitting estimator with 474 features.\n",
      "Fitting estimator with 473 features.\n",
      "Fitting estimator with 472 features.\n",
      "Fitting estimator with 471 features.\n",
      "Fitting estimator with 470 features.\n",
      "Fitting estimator with 469 features.\n",
      "Fitting estimator with 468 features.\n",
      "Fitting estimator with 467 features.\n",
      "Fitting estimator with 466 features.\n",
      "Fitting estimator with 465 features.\n",
      "Fitting estimator with 464 features.\n",
      "Fitting estimator with 463 features.\n",
      "Fitting estimator with 462 features.\n",
      "Fitting estimator with 461 features.\n",
      "Fitting estimator with 460 features.\n",
      "Fitting estimator with 459 features.\n",
      "Fitting estimator with 458 features.\n",
      "Fitting estimator with 457 features.\n",
      "Fitting estimator with 456 features.\n",
      "Fitting estimator with 455 features.\n",
      "Fitting estimator with 454 features.\n",
      "Fitting estimator with 453 features.\n",
      "Fitting estimator with 452 features.\n",
      "Fitting estimator with 451 features.\n",
      "Fitting estimator with 450 features.\n",
      "Fitting estimator with 449 features.\n",
      "Fitting estimator with 448 features.\n",
      "Fitting estimator with 447 features.\n",
      "Fitting estimator with 446 features.\n",
      "Fitting estimator with 445 features.\n",
      "Fitting estimator with 444 features.\n",
      "Fitting estimator with 443 features.\n",
      "Fitting estimator with 442 features.\n",
      "Fitting estimator with 441 features.\n",
      "Fitting estimator with 440 features.\n",
      "Fitting estimator with 439 features.\n",
      "Fitting estimator with 438 features.\n",
      "Fitting estimator with 437 features.\n",
      "Fitting estimator with 436 features.\n",
      "Fitting estimator with 435 features.\n",
      "Fitting estimator with 434 features.\n",
      "Fitting estimator with 433 features.\n",
      "Fitting estimator with 432 features.\n",
      "Fitting estimator with 431 features.\n",
      "Fitting estimator with 430 features.\n",
      "Fitting estimator with 429 features.\n",
      "Fitting estimator with 428 features.\n",
      "Fitting estimator with 427 features.\n",
      "Fitting estimator with 426 features.\n",
      "Fitting estimator with 425 features.\n",
      "Fitting estimator with 424 features.\n",
      "Fitting estimator with 423 features.\n",
      "Fitting estimator with 422 features.\n",
      "Fitting estimator with 421 features.\n",
      "Fitting estimator with 420 features.\n",
      "Fitting estimator with 419 features.\n",
      "Fitting estimator with 418 features.\n",
      "Fitting estimator with 417 features.\n",
      "Fitting estimator with 416 features.\n",
      "Fitting estimator with 415 features.\n",
      "Fitting estimator with 414 features.\n",
      "Fitting estimator with 413 features.\n",
      "Fitting estimator with 412 features.\n",
      "Fitting estimator with 411 features.\n",
      "Fitting estimator with 410 features.\n",
      "Fitting estimator with 409 features.\n",
      "Fitting estimator with 408 features.\n",
      "Fitting estimator with 407 features.\n",
      "Fitting estimator with 406 features.\n",
      "Fitting estimator with 405 features.\n",
      "Fitting estimator with 404 features.\n",
      "Fitting estimator with 403 features.\n",
      "Fitting estimator with 402 features.\n",
      "Fitting estimator with 401 features.\n",
      "Fitting estimator with 400 features.\n",
      "Fitting estimator with 399 features.\n",
      "Fitting estimator with 398 features.\n",
      "Fitting estimator with 397 features.\n",
      "Fitting estimator with 396 features.\n",
      "Fitting estimator with 395 features.\n",
      "Fitting estimator with 394 features.\n",
      "Fitting estimator with 393 features.\n",
      "Fitting estimator with 392 features.\n",
      "Fitting estimator with 391 features.\n",
      "Fitting estimator with 390 features.\n",
      "Fitting estimator with 389 features.\n",
      "Fitting estimator with 388 features.\n",
      "Fitting estimator with 387 features.\n",
      "Fitting estimator with 386 features.\n",
      "Fitting estimator with 385 features.\n",
      "Fitting estimator with 384 features.\n",
      "Fitting estimator with 383 features.\n",
      "Fitting estimator with 382 features.\n",
      "Fitting estimator with 381 features.\n",
      "Fitting estimator with 380 features.\n",
      "Fitting estimator with 379 features.\n",
      "Fitting estimator with 378 features.\n",
      "Fitting estimator with 377 features.\n",
      "Fitting estimator with 376 features.\n",
      "Fitting estimator with 375 features.\n",
      "Fitting estimator with 374 features.\n",
      "Fitting estimator with 373 features.\n",
      "Fitting estimator with 372 features.\n",
      "Fitting estimator with 371 features.\n",
      "Fitting estimator with 370 features.\n",
      "Fitting estimator with 369 features.\n",
      "Fitting estimator with 368 features.\n",
      "Fitting estimator with 367 features.\n",
      "Fitting estimator with 366 features.\n",
      "Fitting estimator with 365 features.\n",
      "Fitting estimator with 364 features.\n",
      "Fitting estimator with 363 features.\n",
      "Fitting estimator with 362 features.\n",
      "Fitting estimator with 361 features.\n",
      "Fitting estimator with 360 features.\n",
      "Fitting estimator with 359 features.\n",
      "Fitting estimator with 358 features.\n",
      "Fitting estimator with 357 features.\n",
      "Fitting estimator with 356 features.\n",
      "Fitting estimator with 355 features.\n",
      "Fitting estimator with 354 features.\n",
      "Fitting estimator with 353 features.\n",
      "Fitting estimator with 352 features.\n",
      "Fitting estimator with 351 features.\n",
      "Fitting estimator with 350 features.\n",
      "Fitting estimator with 349 features.\n",
      "Fitting estimator with 348 features.\n",
      "Fitting estimator with 347 features.\n",
      "Fitting estimator with 346 features.\n",
      "Fitting estimator with 345 features.\n",
      "Fitting estimator with 344 features.\n",
      "Fitting estimator with 343 features.\n",
      "Fitting estimator with 342 features.\n",
      "Fitting estimator with 341 features.\n",
      "Fitting estimator with 340 features.\n",
      "Fitting estimator with 339 features.\n",
      "Fitting estimator with 338 features.\n",
      "Fitting estimator with 337 features.\n",
      "Fitting estimator with 336 features.\n",
      "Fitting estimator with 335 features.\n",
      "Fitting estimator with 334 features.\n",
      "Fitting estimator with 333 features.\n",
      "Fitting estimator with 332 features.\n",
      "Fitting estimator with 331 features.\n",
      "Fitting estimator with 330 features.\n",
      "Fitting estimator with 329 features.\n",
      "Fitting estimator with 328 features.\n",
      "Fitting estimator with 327 features.\n",
      "Fitting estimator with 326 features.\n",
      "Fitting estimator with 325 features.\n",
      "Fitting estimator with 324 features.\n",
      "Fitting estimator with 323 features.\n",
      "Fitting estimator with 322 features.\n",
      "Fitting estimator with 321 features.\n",
      "Fitting estimator with 320 features.\n",
      "Fitting estimator with 319 features.\n",
      "Fitting estimator with 318 features.\n",
      "Fitting estimator with 317 features.\n",
      "Fitting estimator with 316 features.\n",
      "Fitting estimator with 315 features.\n",
      "Fitting estimator with 314 features.\n",
      "Fitting estimator with 313 features.\n",
      "Fitting estimator with 312 features.\n",
      "Fitting estimator with 311 features.\n",
      "Fitting estimator with 310 features.\n",
      "Fitting estimator with 309 features.\n",
      "Fitting estimator with 308 features.\n",
      "Fitting estimator with 307 features.\n",
      "Fitting estimator with 306 features.\n",
      "Fitting estimator with 305 features.\n",
      "Fitting estimator with 304 features.\n",
      "Fitting estimator with 303 features.\n",
      "Fitting estimator with 302 features.\n",
      "Fitting estimator with 301 features.\n",
      "Fitting estimator with 300 features.\n",
      "Fitting estimator with 299 features.\n",
      "Fitting estimator with 298 features.\n",
      "Fitting estimator with 297 features.\n",
      "Fitting estimator with 296 features.\n",
      "Fitting estimator with 295 features.\n",
      "Fitting estimator with 294 features.\n",
      "Fitting estimator with 293 features.\n",
      "Fitting estimator with 292 features.\n",
      "Fitting estimator with 291 features.\n",
      "Fitting estimator with 290 features.\n",
      "Fitting estimator with 289 features.\n",
      "Fitting estimator with 288 features.\n",
      "Fitting estimator with 287 features.\n",
      "Fitting estimator with 286 features.\n",
      "Fitting estimator with 285 features.\n",
      "Fitting estimator with 284 features.\n",
      "Fitting estimator with 283 features.\n",
      "Fitting estimator with 282 features.\n",
      "Fitting estimator with 281 features.\n",
      "Fitting estimator with 280 features.\n",
      "Fitting estimator with 279 features.\n",
      "Fitting estimator with 278 features.\n",
      "Fitting estimator with 277 features.\n",
      "Fitting estimator with 276 features.\n",
      "Fitting estimator with 275 features.\n",
      "Fitting estimator with 274 features.\n",
      "Fitting estimator with 273 features.\n",
      "Fitting estimator with 272 features.\n",
      "Fitting estimator with 271 features.\n",
      "Fitting estimator with 270 features.\n",
      "Fitting estimator with 269 features.\n",
      "Fitting estimator with 268 features.\n",
      "Fitting estimator with 267 features.\n",
      "Fitting estimator with 266 features.\n",
      "Fitting estimator with 265 features.\n",
      "Fitting estimator with 264 features.\n",
      "Fitting estimator with 263 features.\n",
      "Fitting estimator with 262 features.\n",
      "Fitting estimator with 261 features.\n",
      "Fitting estimator with 260 features.\n",
      "Fitting estimator with 259 features.\n",
      "Fitting estimator with 258 features.\n",
      "Fitting estimator with 257 features.\n",
      "Fitting estimator with 256 features.\n",
      "Fitting estimator with 255 features.\n",
      "Fitting estimator with 254 features.\n",
      "Fitting estimator with 253 features.\n",
      "Fitting estimator with 252 features.\n",
      "Fitting estimator with 251 features.\n",
      "Fitting estimator with 250 features.\n",
      "Fitting estimator with 249 features.\n",
      "Fitting estimator with 248 features.\n",
      "Fitting estimator with 247 features.\n",
      "Fitting estimator with 246 features.\n",
      "Fitting estimator with 245 features.\n",
      "Fitting estimator with 244 features.\n",
      "Fitting estimator with 243 features.\n",
      "Fitting estimator with 242 features.\n",
      "Fitting estimator with 241 features.\n",
      "Fitting estimator with 240 features.\n",
      "Fitting estimator with 239 features.\n",
      "Fitting estimator with 238 features.\n",
      "Fitting estimator with 237 features.\n",
      "Fitting estimator with 236 features.\n",
      "Fitting estimator with 235 features.\n",
      "Fitting estimator with 234 features.\n",
      "Fitting estimator with 233 features.\n",
      "Fitting estimator with 232 features.\n",
      "Fitting estimator with 231 features.\n",
      "Fitting estimator with 230 features.\n",
      "Fitting estimator with 229 features.\n",
      "Fitting estimator with 228 features.\n",
      "Fitting estimator with 227 features.\n",
      "Fitting estimator with 226 features.\n",
      "Fitting estimator with 225 features.\n",
      "Fitting estimator with 224 features.\n",
      "Fitting estimator with 223 features.\n",
      "Fitting estimator with 222 features.\n",
      "Fitting estimator with 221 features.\n",
      "Fitting estimator with 220 features.\n",
      "Fitting estimator with 219 features.\n",
      "Fitting estimator with 218 features.\n",
      "Fitting estimator with 217 features.\n",
      "Fitting estimator with 216 features.\n",
      "Fitting estimator with 215 features.\n",
      "Fitting estimator with 214 features.\n",
      "Fitting estimator with 213 features.\n",
      "Fitting estimator with 212 features.\n",
      "Fitting estimator with 211 features.\n",
      "Fitting estimator with 210 features.\n",
      "Fitting estimator with 209 features.\n",
      "Fitting estimator with 208 features.\n",
      "Fitting estimator with 207 features.\n",
      "Fitting estimator with 206 features.\n",
      "Fitting estimator with 205 features.\n",
      "Fitting estimator with 204 features.\n",
      "Fitting estimator with 203 features.\n",
      "Fitting estimator with 202 features.\n",
      "Fitting estimator with 201 features.\n",
      "Fitting estimator with 200 features.\n",
      "Fitting estimator with 199 features.\n",
      "Fitting estimator with 198 features.\n",
      "Fitting estimator with 197 features.\n",
      "Fitting estimator with 196 features.\n",
      "Fitting estimator with 195 features.\n",
      "Fitting estimator with 194 features.\n",
      "Fitting estimator with 193 features.\n",
      "Fitting estimator with 192 features.\n",
      "Fitting estimator with 191 features.\n",
      "Fitting estimator with 190 features.\n",
      "Fitting estimator with 189 features.\n",
      "Fitting estimator with 188 features.\n",
      "Fitting estimator with 187 features.\n",
      "Fitting estimator with 186 features.\n",
      "Fitting estimator with 185 features.\n",
      "Fitting estimator with 184 features.\n",
      "Fitting estimator with 183 features.\n",
      "Fitting estimator with 182 features.\n",
      "Fitting estimator with 181 features.\n",
      "Fitting estimator with 180 features.\n",
      "Fitting estimator with 179 features.\n",
      "Fitting estimator with 178 features.\n",
      "Fitting estimator with 177 features.\n",
      "Fitting estimator with 176 features.\n",
      "Fitting estimator with 175 features.\n",
      "Fitting estimator with 174 features.\n",
      "Fitting estimator with 173 features.\n",
      "Fitting estimator with 172 features.\n",
      "Fitting estimator with 171 features.\n",
      "Fitting estimator with 170 features.\n",
      "Fitting estimator with 169 features.\n",
      "Fitting estimator with 168 features.\n",
      "Fitting estimator with 167 features.\n",
      "Fitting estimator with 166 features.\n",
      "Fitting estimator with 165 features.\n",
      "Fitting estimator with 164 features.\n",
      "Fitting estimator with 163 features.\n",
      "Fitting estimator with 162 features.\n",
      "Fitting estimator with 161 features.\n",
      "Fitting estimator with 160 features.\n",
      "Fitting estimator with 159 features.\n",
      "Fitting estimator with 158 features.\n",
      "Fitting estimator with 157 features.\n",
      "Fitting estimator with 156 features.\n",
      "Fitting estimator with 155 features.\n",
      "Fitting estimator with 154 features.\n",
      "Fitting estimator with 153 features.\n",
      "Fitting estimator with 152 features.\n",
      "Fitting estimator with 151 features.\n",
      "Fitting estimator with 150 features.\n",
      "Fitting estimator with 149 features.\n",
      "Fitting estimator with 148 features.\n",
      "Fitting estimator with 147 features.\n",
      "Fitting estimator with 146 features.\n",
      "Fitting estimator with 145 features.\n",
      "Fitting estimator with 144 features.\n",
      "Fitting estimator with 143 features.\n",
      "Fitting estimator with 142 features.\n",
      "Fitting estimator with 141 features.\n",
      "Fitting estimator with 140 features.\n",
      "Fitting estimator with 139 features.\n",
      "Fitting estimator with 138 features.\n",
      "Fitting estimator with 137 features.\n",
      "Fitting estimator with 136 features.\n",
      "Fitting estimator with 135 features.\n",
      "Fitting estimator with 134 features.\n",
      "Fitting estimator with 133 features.\n",
      "Fitting estimator with 132 features.\n",
      "Fitting estimator with 131 features.\n",
      "Fitting estimator with 130 features.\n",
      "Fitting estimator with 129 features.\n",
      "Fitting estimator with 128 features.\n",
      "Fitting estimator with 127 features.\n",
      "Fitting estimator with 126 features.\n",
      "Fitting estimator with 125 features.\n",
      "Fitting estimator with 124 features.\n",
      "Fitting estimator with 123 features.\n",
      "Fitting estimator with 122 features.\n",
      "Fitting estimator with 121 features.\n",
      "Fitting estimator with 120 features.\n",
      "Fitting estimator with 119 features.\n",
      "Fitting estimator with 118 features.\n",
      "Fitting estimator with 117 features.\n",
      "Fitting estimator with 116 features.\n",
      "Fitting estimator with 115 features.\n",
      "Fitting estimator with 114 features.\n",
      "Fitting estimator with 113 features.\n",
      "Fitting estimator with 112 features.\n",
      "Fitting estimator with 111 features.\n",
      "Fitting estimator with 110 features.\n",
      "Fitting estimator with 109 features.\n",
      "Fitting estimator with 108 features.\n",
      "Fitting estimator with 107 features.\n",
      "Fitting estimator with 106 features.\n",
      "Fitting estimator with 105 features.\n",
      "Fitting estimator with 104 features.\n",
      "Fitting estimator with 103 features.\n",
      "Fitting estimator with 102 features.\n",
      "Fitting estimator with 101 features.\n",
      "Fitting estimator with 100 features.\n",
      "Fitting estimator with 99 features.\n",
      "Fitting estimator with 98 features.\n",
      "Fitting estimator with 97 features.\n",
      "Fitting estimator with 96 features.\n",
      "Fitting estimator with 95 features.\n",
      "Fitting estimator with 94 features.\n",
      "Fitting estimator with 93 features.\n",
      "Fitting estimator with 92 features.\n",
      "Fitting estimator with 91 features.\n",
      "Fitting estimator with 90 features.\n",
      "Fitting estimator with 89 features.\n",
      "Fitting estimator with 88 features.\n",
      "Fitting estimator with 87 features.\n",
      "Fitting estimator with 86 features.\n",
      "Fitting estimator with 85 features.\n",
      "Fitting estimator with 84 features.\n",
      "Fitting estimator with 83 features.\n",
      "Fitting estimator with 82 features.\n",
      "Fitting estimator with 81 features.\n",
      "Fitting estimator with 80 features.\n",
      "Fitting estimator with 79 features.\n",
      "Fitting estimator with 78 features.\n",
      "Fitting estimator with 77 features.\n",
      "Fitting estimator with 76 features.\n",
      "Fitting estimator with 75 features.\n",
      "Fitting estimator with 74 features.\n",
      "Fitting estimator with 73 features.\n",
      "Fitting estimator with 72 features.\n",
      "Fitting estimator with 71 features.\n",
      "Fitting estimator with 70 features.\n",
      "Fitting estimator with 69 features.\n",
      "Fitting estimator with 68 features.\n",
      "Fitting estimator with 67 features.\n",
      "Fitting estimator with 66 features.\n",
      "Fitting estimator with 65 features.\n",
      "Fitting estimator with 64 features.\n",
      "Fitting estimator with 63 features.\n",
      "Fitting estimator with 62 features.\n",
      "Fitting estimator with 61 features.\n",
      "Fitting estimator with 60 features.\n",
      "Fitting estimator with 59 features.\n",
      "Fitting estimator with 58 features.\n",
      "Fitting estimator with 57 features.\n",
      "Fitting estimator with 56 features.\n",
      "Fitting estimator with 55 features.\n",
      "Fitting estimator with 54 features.\n",
      "Fitting estimator with 53 features.\n",
      "Fitting estimator with 52 features.\n",
      "Fitting estimator with 51 features.\n",
      "Fitting estimator with 50 features.\n",
      "Fitting estimator with 49 features.\n",
      "Fitting estimator with 48 features.\n",
      "Fitting estimator with 47 features.\n",
      "Fitting estimator with 46 features.\n",
      "Fitting estimator with 45 features.\n",
      "Fitting estimator with 44 features.\n",
      "Fitting estimator with 43 features.\n",
      "Fitting estimator with 42 features.\n",
      "Fitting estimator with 41 features.\n",
      "Fitting estimator with 40 features.\n",
      "Fitting estimator with 39 features.\n",
      "Fitting estimator with 38 features.\n",
      "Fitting estimator with 37 features.\n",
      "Fitting estimator with 36 features.\n",
      "Fitting estimator with 35 features.\n",
      "Fitting estimator with 34 features.\n",
      "Fitting estimator with 33 features.\n",
      "Fitting estimator with 32 features.\n",
      "Fitting estimator with 31 features.\n"
     ]
    }
   ]
  },
  {
   "cell_type": "code",
   "source": [
    "feature_names = vectorizer_500.get_feature_names_out()\n",
    "\n",
    "chi2_indices = chi2_selector.get_support(indices=True)\n",
    "f_indices = f_selector.get_support(indices=True)\n",
    "rf_indices = rf_selector.get_support(indices=True)\n",
    "\n",
    "chi2_features = [(feature_names[i], chi2_scores[i]) for i in chi2_indices]\n",
    "f_features = [(feature_names[i], f_scores[i]) for i in f_indices]\n",
    "rf_features = [(feature_names[i], 1) for i in rf_indices]\n",
    "\n",
    "chi2_features.sort(key=lambda x: x[1], reverse=True)\n",
    "f_features.sort(key=lambda x: x[1], reverse=True)\n",
    "rf_features.sort(key=lambda x: x[1], reverse=True)"
   ],
   "metadata": {
    "id": "J-in-IGH5CZo"
   },
   "execution_count": 81,
   "outputs": []
  },
  {
   "cell_type": "code",
   "source": [
    "print(\"Top 30 features selected by chi2:\")\n",
    "for feature, score in chi2_features:\n",
    "    print(f\"Feature: {feature:20} Score: {score}\")"
   ],
   "metadata": {
    "colab": {
     "base_uri": "https://localhost:8080/"
    },
    "id": "0RUmtaGH6MJk",
    "outputId": "0c22d297-ce2a-491f-bdca-34cf2cdb7be8"
   },
   "execution_count": 82,
   "outputs": [
    {
     "output_type": "stream",
     "name": "stdout",
     "text": [
      "Top 30 features selected by chi2:\n",
      "Feature: txt                  Score: 46.85710894738313\n",
      "Feature: free                 Score: 39.80093591256124\n",
      "Feature: call                 Score: 36.60371416208688\n",
      "Feature: mobile               Score: 31.245609033363756\n",
      "Feature: 50                   Score: 27.619281820787094\n",
      "Feature: claim                Score: 26.033778007651218\n",
      "Feature: stop                 Score: 24.443381896185656\n",
      "Feature: www                  Score: 23.325711684830146\n",
      "Feature: nokia                Score: 22.221807954102687\n",
      "Feature: 150p                 Score: 21.77438105782459\n",
      "Feature: win                  Score: 20.06898330418751\n",
      "Feature: 18                   Score: 19.67672181480045\n",
      "Feature: text                 Score: 19.499686232691662\n",
      "Feature: uk                   Score: 19.21245936075709\n",
      "Feature: 100                  Score: 18.93489415811446\n",
      "Feature: service              Score: 18.8044511086952\n",
      "Feature: customer             Score: 18.646455014367373\n",
      "Feature: tone                 Score: 18.63879455897078\n",
      "Feature: cs                   Score: 18.056332528874705\n",
      "Feature: prize                Score: 17.70644050801324\n",
      "Feature: awarded              Score: 17.470029870405583\n",
      "Feature: com                  Score: 16.991946353232105\n",
      "Feature: guaranteed           Score: 15.658345239277445\n",
      "Feature: reply                Score: 15.541738817125232\n",
      "Feature: rate                 Score: 14.641744747877144\n",
      "Feature: new                  Score: 14.637902567258653\n",
      "Feature: won                  Score: 14.622255701962725\n",
      "Feature: camera               Score: 14.561925377385508\n",
      "Feature: ringtone             Score: 14.41196311209627\n",
      "Feature: latest               Score: 14.166136418808646\n"
     ]
    }
   ]
  },
  {
   "cell_type": "code",
   "source": [
    "print(\"Top 30 features selected by f_classif:\")\n",
    "for feature, score in f_features:\n",
    "    print(f\"Feature: {feature:20} Score: {score}\")"
   ],
   "metadata": {
    "colab": {
     "base_uri": "https://localhost:8080/"
    },
    "id": "I6PQEr0S6OqC",
    "outputId": "f82846ad-c147-4ca2-f648-d5aecb6b0f63"
   },
   "execution_count": 83,
   "outputs": [
    {
     "output_type": "stream",
     "name": "stdout",
     "text": [
      "Top 30 features selected by f_classif:\n",
      "Feature: txt                  Score: 248.23209001957727\n",
      "Feature: call                 Score: 161.7198330485248\n",
      "Feature: free                 Score: 139.4411507380109\n",
      "Feature: mobile               Score: 131.63868188545246\n",
      "Feature: claim                Score: 109.77787299872361\n",
      "Feature: 50                   Score: 108.76952786757332\n",
      "Feature: www                  Score: 95.66615767599221\n",
      "Feature: stop                 Score: 95.20145166552939\n",
      "Feature: 150p                 Score: 82.71258305357567\n",
      "Feature: 18                   Score: 75.90378514492522\n",
      "Feature: win                  Score: 75.06210710585952\n",
      "Feature: text                 Score: 73.98346696500431\n",
      "Feature: prize                Score: 69.65438767196164\n",
      "Feature: cs                   Score: 68.31374584208697\n",
      "Feature: uk                   Score: 65.07178260933297\n",
      "Feature: nokia                Score: 63.35145655860539\n",
      "Feature: customer             Score: 60.63792048080779\n",
      "Feature: reply                Score: 58.655293363165136\n",
      "Feature: tone                 Score: 56.49496899068868\n",
      "Feature: won                  Score: 56.185767169412166\n",
      "Feature: awarded              Score: 56.01008071017455\n",
      "Feature: guaranteed           Score: 55.86266624676667\n",
      "Feature: contact              Score: 54.15492232782666\n",
      "Feature: 100                  Score: 54.01275886845531\n",
      "Feature: new                  Score: 53.085372041819\n",
      "Feature: rate                 Score: 52.5863273486165\n",
      "Feature: line                 Score: 49.88843179429427\n",
      "Feature: 500                  Score: 49.595470852875664\n",
      "Feature: com                  Score: 48.71277998145186\n",
      "Feature: co                   Score: 48.66078046529236\n"
     ]
    }
   ]
  },
  {
   "cell_type": "code",
   "source": [
    "print(\"Top 30 features selected by RFE (Random Forest):\")\n",
    "for feature, _ in rf_features:\n",
    "    print(f\"Feature: {feature:20}\")"
   ],
   "metadata": {
    "colab": {
     "base_uri": "https://localhost:8080/"
    },
    "id": "EYmmnHtX6RMe",
    "outputId": "811b1a12-e5d1-425a-9118-9e812d0604ae"
   },
   "execution_count": 84,
   "outputs": [
    {
     "output_type": "stream",
     "name": "stdout",
     "text": [
      "Top 30 features selected by RFE (Random Forest):\n",
      "Feature: 150p                \n",
      "Feature: 18                  \n",
      "Feature: 50                  \n",
      "Feature: call                \n",
      "Feature: claim               \n",
      "Feature: com                 \n",
      "Feature: customer            \n",
      "Feature: for                 \n",
      "Feature: free                \n",
      "Feature: from                \n",
      "Feature: have                \n",
      "Feature: in                  \n",
      "Feature: me                  \n",
      "Feature: mobile              \n",
      "Feature: no                  \n",
      "Feature: now                 \n",
      "Feature: on                  \n",
      "Feature: or                  \n",
      "Feature: rate                \n",
      "Feature: reply               \n",
      "Feature: service             \n",
      "Feature: stop                \n",
      "Feature: text                \n",
      "Feature: to                  \n",
      "Feature: txt                 \n",
      "Feature: uk                  \n",
      "Feature: win                 \n",
      "Feature: www                 \n",
      "Feature: you                 \n",
      "Feature: your                \n"
     ]
    }
   ]
  },
  {
   "cell_type": "code",
   "source": [
    "from sklearn.model_selection import train_test_split\n",
    "\n",
    "X_train, X_test, y_train, y_test = train_test_split(X_500, y, test_size=0.2, random_state=0)"
   ],
   "metadata": {
    "id": "jIKvBM0K9kw7"
   },
   "execution_count": 88,
   "outputs": []
  },
  {
   "cell_type": "code",
   "source": [
    "from sklearn.metrics import accuracy_score\n",
    "from sklearn.linear_model import LogisticRegression\n",
    "from sklearn.svm import SVC\n",
    "from sklearn.neighbors import KNeighborsClassifier\n",
    "\n",
    "classifiers = [\n",
    "    ('Logistic Regression', LogisticRegression()),\n",
    "    ('Support Vector Machine', SVC()),\n",
    "    ('K-Nearest Neighbors', KNeighborsClassifier())\n",
    "]\n",
    "\n",
    "for name, classifier in classifiers:\n",
    "    classifier.fit(X_train, y_train)\n",
    "    y_pred = classifier.predict(X_test)\n",
    "    accuracy = accuracy_score(y_test, y_pred)\n",
    "    print(f\"Classifier: {name:30} Accuracy: {accuracy}\")"
   ],
   "metadata": {
    "colab": {
     "base_uri": "https://localhost:8080/"
    },
    "id": "ch3NOQfK-N5b",
    "outputId": "f1bcf018-e392-4059-8b99-75d525313d2e"
   },
   "execution_count": 89,
   "outputs": [
    {
     "output_type": "stream",
     "name": "stdout",
     "text": [
      "Classifier: Logistic Regression            Accuracy: 0.925\n",
      "Classifier: Support Vector Machine         Accuracy: 0.965\n",
      "Classifier: K-Nearest Neighbors            Accuracy: 0.86\n"
     ]
    }
   ]
  },
  {
   "cell_type": "code",
   "source": [
    "X_train_chi2 = chi2_selector.transform(X_train)\n",
    "X_test_chi2 = chi2_selector.transform(X_test)\n",
    "\n",
    "for name, classifier in classifiers:\n",
    "    classifier.fit(X_train_chi2, y_train)\n",
    "    y_pred = classifier.predict(X_test_chi2)\n",
    "    accuracy = accuracy_score(y_test, y_pred)\n",
    "    print(f\"Classifier: {name:30} Accuracy (after chi2): {accuracy}\")"
   ],
   "metadata": {
    "colab": {
     "base_uri": "https://localhost:8080/"
    },
    "id": "BbVucip1-Qvv",
    "outputId": "f61904d2-1195-47d5-abf3-f75e4b28874a"
   },
   "execution_count": 90,
   "outputs": [
    {
     "output_type": "stream",
     "name": "stdout",
     "text": [
      "Classifier: Logistic Regression            Accuracy (after chi2): 0.88\n",
      "Classifier: Support Vector Machine         Accuracy (after chi2): 0.965\n",
      "Classifier: K-Nearest Neighbors            Accuracy (after chi2): 0.925\n"
     ]
    }
   ]
  },
  {
   "cell_type": "code",
   "source": [
    "X_train_f = f_selector.transform(X_train)\n",
    "X_test_f = f_selector.transform(X_test)\n",
    "\n",
    "for name, classifier in classifiers:\n",
    "    classifier.fit(X_train_f, y_train)\n",
    "    y_pred = classifier.predict(X_test_f)\n",
    "    accuracy = accuracy_score(y_test, y_pred)\n",
    "    print(f\"Classifier: {name:30} Accuracy (after f_classif): {accuracy}\")"
   ],
   "metadata": {
    "colab": {
     "base_uri": "https://localhost:8080/"
    },
    "id": "UsNGkiKQ-U8V",
    "outputId": "8df41f7d-fcff-46ec-9177-8a35ba91a36b"
   },
   "execution_count": 91,
   "outputs": [
    {
     "output_type": "stream",
     "name": "stdout",
     "text": [
      "Classifier: Logistic Regression            Accuracy (after f_classif): 0.87\n",
      "Classifier: Support Vector Machine         Accuracy (after f_classif): 0.965\n",
      "Classifier: K-Nearest Neighbors            Accuracy (after f_classif): 0.94\n"
     ]
    }
   ]
  },
  {
   "cell_type": "code",
   "source": [
    "X_train_rf = rf_selector.transform(X_train)\n",
    "X_test_rf = rf_selector.transform(X_test)\n",
    "\n",
    "for name, classifier in classifiers:\n",
    "    classifier.fit(X_train_rf, y_train)\n",
    "    y_pred = classifier.predict(X_test_rf)\n",
    "    accuracy = accuracy_score(y_test, y_pred)\n",
    "    print(f\"Classifier: {name:30} Accuracy (after RFE): {accuracy}\")"
   ],
   "metadata": {
    "colab": {
     "base_uri": "https://localhost:8080/"
    },
    "id": "cU9a7uEc-YGH",
    "outputId": "dfcfc3d4-4f9d-4182-87a6-0ab61d92e098"
   },
   "execution_count": 92,
   "outputs": [
    {
     "output_type": "stream",
     "name": "stdout",
     "text": [
      "Classifier: Logistic Regression            Accuracy (after RFE): 0.89\n",
      "Classifier: Support Vector Machine         Accuracy (after RFE): 0.965\n",
      "Classifier: K-Nearest Neighbors            Accuracy (after RFE): 0.925\n"
     ]
    }
   ]
  },
  {
   "cell_type": "markdown",
   "source": [
    "- Для Logistic Regression скор ухудшился\n",
    "- Для SVM разницы нет\n",
    "- Для KNN стало лучше"
   ],
   "metadata": {
    "id": "jaNQR1V29d6t"
   }
  }
 ]
}
